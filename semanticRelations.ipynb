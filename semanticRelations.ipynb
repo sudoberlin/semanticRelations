{
  "nbformat": 4,
  "nbformat_minor": 0,
  "metadata": {
    "colab": {
      "provenance": []
    },
    "kernelspec": {
      "name": "python3",
      "display_name": "Python 3"
    },
    "language_info": {
      "name": "python"
    }
  },
  "cells": [
    {
      "cell_type": "code",
      "execution_count": null,
      "metadata": {
        "id": "e9GBcPcXBLLn",
        "colab": {
          "base_uri": "https://localhost:8080/"
        },
        "outputId": "b40f28c1-34e2-47ae-aec2-150eedc04a8e"
      },
      "outputs": [
        {
          "output_type": "stream",
          "name": "stdout",
          "text": [
            "[nltk_data] Downloading package stopwords to /root/nltk_data...\n",
            "[nltk_data]   Unzipping corpora/stopwords.zip.\n",
            "[nltk_data] Downloading package words to /root/nltk_data...\n",
            "[nltk_data]   Unzipping corpora/words.zip.\n",
            "[nltk_data] Downloading package punkt to /root/nltk_data...\n",
            "[nltk_data]   Unzipping tokenizers/punkt.zip.\n"
          ]
        }
      ],
      "source": [
        "import nltk\n",
        "import pandas as pd\n",
        "import numpy as np\n",
        "from nltk.stem.porter import PorterStemmer\n",
        "from nltk.tokenize import TweetTokenizer\n",
        "from nltk.tokenize import word_tokenize\n",
        "from nltk.corpus import stopwords\n",
        "import re\n",
        "from nltk.stem import WordNetLemmatizer\n",
        "stemmer = PorterStemmer()\n",
        "lemmatizer = WordNetLemmatizer()\n",
        "from textblob import TextBlob\n",
        "import requests\n",
        "from collections import Counter\n",
        "\n",
        "import warnings\n",
        "warnings.filterwarnings('ignore')\n",
        "\n",
        "import nltk\n",
        "nltk.download('stopwords')\n",
        "nltk.download('words')\n",
        "stop_words = stopwords.words('english')\n",
        "words = set(nltk.corpus.words.words())\n",
        "nltk.download('punkt')\n",
        "from sklearn.linear_model import SGDClassifier\n",
        "from sklearn.feature_extraction.text import CountVectorizer, TfidfTransformer\n",
        "from sklearn.svm import SVC\n",
        "from sklearn.model_selection import train_test_split, StratifiedKFold, cross_val_score\n",
        "from sklearn.pipeline import make_pipeline, Pipeline\n",
        "from sklearn.metrics import make_scorer, accuracy_score, f1_score\n",
        "from sklearn.metrics import roc_curve, auc\n",
        "from sklearn.metrics import confusion_matrix, roc_auc_score, recall_score, precision_score, classification_report\n"
      ]
    },
    {
      "cell_type": "code",
      "source": [
        "Train_file = \"TRAIN_FILE.TXT\"\n",
        "Test_file = \"TEST_FILE_FULL.TXT\"\n"
      ],
      "metadata": {
        "id": "oPfSEJXABWh6"
      },
      "execution_count": null,
      "outputs": []
    },
    {
      "cell_type": "code",
      "source": [
        "def Load_corpus(path):\n",
        "    temp_data = []\n",
        "    lines = [line.strip() for line in open(path)] # strip to remove the whitespace\n",
        "    for idx in range(0, len(lines), 4):\n",
        "        id = lines[idx].split(\"\\t\")[0]\n",
        "        relation = lines[idx + 1]\n",
        "\n",
        "        sentence = lines[idx].split(\"\\t\")[1][1:-1]\n",
        "\n",
        "        sentence = sentence.replace(\"<e1>\", \" _e1_ \").replace(\"</e1>\", \" _/e1_ \")\n",
        "        sentence = sentence.replace(\"<e2>\", \" _e2_ \").replace(\"</e2>\", \" _/e2_ \")\n",
        "        sentence = sentence.replace(\"<e1>\", \"<e1> \").replace(\"</e1>\", \" </e11>\")\n",
        "        sentence = sentence.replace(\"<e2>\", \"<e2> \").replace(\"</e2>\", \" </e22>\")\n",
        "\n",
        "        tokens = nltk.word_tokenize(sentence)\n",
        "        tokens.remove('_/e1_')\n",
        "        tokens.remove('_/e2_')\n",
        "\n",
        "        e1 = tokens.index(\"_e1_\")\n",
        "        del tokens[e1]\n",
        "        element1=tokens[e1]\n",
        "\n",
        "        e2 = tokens.index(\"_e2_\")\n",
        "        del tokens[e2]\n",
        "        element2=tokens[e2]\n",
        "\n",
        "        sentence = \" \".join(tokens)\n",
        "        temp_data.append([id, sentence, e1, element1, e2, element2, relation])\n",
        "\n",
        "    df = pd.DataFrame(data=temp_data, columns=[\"id\", \"sentence\", \"entity1_position\",\"entity1\", \"entity2_position\",\"entity2\", \"class\"])\n",
        "    #print (df)\n",
        "    labelsMapping = {'Other': 0,\n",
        "                     'Message-Topic(e1,e2)': 0,\n",
        "                     'Message-Topic(e2,e1)': 0,\n",
        "                     'Product-Producer(e1,e2)': 0,\n",
        "                     'Product-Producer(e2,e1)': 0,\n",
        "                     'Instrument-Agency(e1,e2)': 0,\n",
        "                     'Instrument-Agency(e2,e1)': 0,\n",
        "                     'Entity-Destination(e1,e2)': 2,\n",
        "                     'Entity-Destination(e2,e1)': 2,\n",
        "                     'Cause-Effect(e1,e2)': 3,\n",
        "                     'Cause-Effect(e2,e1)': 3,\n",
        "                     'Component-Whole(e1,e2)': 4,\n",
        "                     'Component-Whole(e2,e1)': 4,\n",
        "                     'Entity-Origin(e1,e2)': 1,\n",
        "                     'Entity-Origin(e2,e1)': 1,\n",
        "                     'Member-Collection(e1,e2)': 0,\n",
        "                     'Member-Collection(e2,e1)': 0,\n",
        "                     'Content-Container(e1,e2)': 0,\n",
        "                     'Content-Container(e2,e1)': 0}\n",
        "\n",
        "    df['tag'] = [labelsMapping[r] for r in df['class']]\n",
        "\n",
        "    #print(df)\n",
        "    x_sentence = df['sentence'].tolist()\n",
        "\n",
        "    #Label Data\n",
        "    y = df['tag']\n",
        "    return df"
      ],
      "metadata": {
        "id": "AznumwU1BdE4"
      },
      "execution_count": null,
      "outputs": []
    },
    {
      "cell_type": "code",
      "source": [],
      "metadata": {
        "id": "sfGknvXScATx"
      },
      "execution_count": null,
      "outputs": []
    },
    {
      "cell_type": "code",
      "source": [
        "df=Load_corpus(Train_file)\n",
        "df_test = Load_corpus(Test_file)"
      ],
      "metadata": {
        "id": "WhnmuzUvBh3i"
      },
      "execution_count": null,
      "outputs": []
    },
    {
      "cell_type": "code",
      "source": [
        "# Replace the not needed train class entitites to other entities\n",
        "\n",
        "df[['class']] = df[['class']].replace(['Member-Collection(e1,e2)'],['Other'])\n",
        "df[['class']] = df[['class']].replace(['Member-Collection(e2,e1)'],['Other'])\n",
        "df[['class']] = df[['class']].replace(['Instrument-Agency(e1,e2)'],['Other'])\n",
        "df[['class']] = df[['class']].replace(['Instrument-Agency(e2,e1)'],['Other'])\n",
        "\n",
        "df[['class']] = df[['class']].replace(['Content-Container(e1,e2)'],['Other'])\n",
        "df[['class']] = df[['class']].replace(['Content-Container(e2,e1)'],['Other'])\n",
        "df[['class']] = df[['class']].replace(['Message-Topic(e1,e2)'],['Other'])\n",
        "df[['class']] = df[['class']].replace(['Message-Topic(e2,e1)'],['Other'])\n",
        "\n",
        "df[['class']] = df[['class']].replace(['Product-Producer(e1,e2)'],['Other'])\n",
        "df[['class']] = df[['class']].replace(['Product-Producer(e2,e1)'],['Other'])\n",
        "\n",
        "# Print the data set of train class\n",
        "\n",
        "#print(df[:5], file=open('ds_stats.txt', mode='w'))\n",
        "df[:5]"
      ],
      "metadata": {
        "colab": {
          "base_uri": "https://localhost:8080/",
          "height": 206
        },
        "id": "Px685KUIUJDt",
        "outputId": "ecaf505d-a1b2-4710-8958-f44417064645"
      },
      "execution_count": null,
      "outputs": [
        {
          "output_type": "execute_result",
          "data": {
            "text/plain": [
              "  id                                           sentence  entity1_position  \\\n",
              "0  1  The system as described above has its greatest...                12   \n",
              "1  2  The child was carefully wrapped and bound into...                 1   \n",
              "2  3  The author of a keygen uses a disassembler to ...                 1   \n",
              "3  4             A misty ridge uprises from the surge .                 2   \n",
              "4  5  The student association is the voice of the un...                 1   \n",
              "\n",
              "         entity1  entity2_position       entity2                   class  tag  \n",
              "0  configuration                15      elements  Component-Whole(e2,e1)    4  \n",
              "1          child                 9        cradle                   Other    0  \n",
              "2         author                 7  disassembler                   Other    0  \n",
              "3          ridge                 6         surge                   Other    0  \n",
              "4        student                 2   association                   Other    0  "
            ],
            "text/html": [
              "\n",
              "  <div id=\"df-b720663c-04b7-46d6-af45-1e286df780b0\">\n",
              "    <div class=\"colab-df-container\">\n",
              "      <div>\n",
              "<style scoped>\n",
              "    .dataframe tbody tr th:only-of-type {\n",
              "        vertical-align: middle;\n",
              "    }\n",
              "\n",
              "    .dataframe tbody tr th {\n",
              "        vertical-align: top;\n",
              "    }\n",
              "\n",
              "    .dataframe thead th {\n",
              "        text-align: right;\n",
              "    }\n",
              "</style>\n",
              "<table border=\"1\" class=\"dataframe\">\n",
              "  <thead>\n",
              "    <tr style=\"text-align: right;\">\n",
              "      <th></th>\n",
              "      <th>id</th>\n",
              "      <th>sentence</th>\n",
              "      <th>entity1_position</th>\n",
              "      <th>entity1</th>\n",
              "      <th>entity2_position</th>\n",
              "      <th>entity2</th>\n",
              "      <th>class</th>\n",
              "      <th>tag</th>\n",
              "    </tr>\n",
              "  </thead>\n",
              "  <tbody>\n",
              "    <tr>\n",
              "      <th>0</th>\n",
              "      <td>1</td>\n",
              "      <td>The system as described above has its greatest...</td>\n",
              "      <td>12</td>\n",
              "      <td>configuration</td>\n",
              "      <td>15</td>\n",
              "      <td>elements</td>\n",
              "      <td>Component-Whole(e2,e1)</td>\n",
              "      <td>4</td>\n",
              "    </tr>\n",
              "    <tr>\n",
              "      <th>1</th>\n",
              "      <td>2</td>\n",
              "      <td>The child was carefully wrapped and bound into...</td>\n",
              "      <td>1</td>\n",
              "      <td>child</td>\n",
              "      <td>9</td>\n",
              "      <td>cradle</td>\n",
              "      <td>Other</td>\n",
              "      <td>0</td>\n",
              "    </tr>\n",
              "    <tr>\n",
              "      <th>2</th>\n",
              "      <td>3</td>\n",
              "      <td>The author of a keygen uses a disassembler to ...</td>\n",
              "      <td>1</td>\n",
              "      <td>author</td>\n",
              "      <td>7</td>\n",
              "      <td>disassembler</td>\n",
              "      <td>Other</td>\n",
              "      <td>0</td>\n",
              "    </tr>\n",
              "    <tr>\n",
              "      <th>3</th>\n",
              "      <td>4</td>\n",
              "      <td>A misty ridge uprises from the surge .</td>\n",
              "      <td>2</td>\n",
              "      <td>ridge</td>\n",
              "      <td>6</td>\n",
              "      <td>surge</td>\n",
              "      <td>Other</td>\n",
              "      <td>0</td>\n",
              "    </tr>\n",
              "    <tr>\n",
              "      <th>4</th>\n",
              "      <td>5</td>\n",
              "      <td>The student association is the voice of the un...</td>\n",
              "      <td>1</td>\n",
              "      <td>student</td>\n",
              "      <td>2</td>\n",
              "      <td>association</td>\n",
              "      <td>Other</td>\n",
              "      <td>0</td>\n",
              "    </tr>\n",
              "  </tbody>\n",
              "</table>\n",
              "</div>\n",
              "      <button class=\"colab-df-convert\" onclick=\"convertToInteractive('df-b720663c-04b7-46d6-af45-1e286df780b0')\"\n",
              "              title=\"Convert this dataframe to an interactive table.\"\n",
              "              style=\"display:none;\">\n",
              "        \n",
              "  <svg xmlns=\"http://www.w3.org/2000/svg\" height=\"24px\"viewBox=\"0 0 24 24\"\n",
              "       width=\"24px\">\n",
              "    <path d=\"M0 0h24v24H0V0z\" fill=\"none\"/>\n",
              "    <path d=\"M18.56 5.44l.94 2.06.94-2.06 2.06-.94-2.06-.94-.94-2.06-.94 2.06-2.06.94zm-11 1L8.5 8.5l.94-2.06 2.06-.94-2.06-.94L8.5 2.5l-.94 2.06-2.06.94zm10 10l.94 2.06.94-2.06 2.06-.94-2.06-.94-.94-2.06-.94 2.06-2.06.94z\"/><path d=\"M17.41 7.96l-1.37-1.37c-.4-.4-.92-.59-1.43-.59-.52 0-1.04.2-1.43.59L10.3 9.45l-7.72 7.72c-.78.78-.78 2.05 0 2.83L4 21.41c.39.39.9.59 1.41.59.51 0 1.02-.2 1.41-.59l7.78-7.78 2.81-2.81c.8-.78.8-2.07 0-2.86zM5.41 20L4 18.59l7.72-7.72 1.47 1.35L5.41 20z\"/>\n",
              "  </svg>\n",
              "      </button>\n",
              "      \n",
              "  <style>\n",
              "    .colab-df-container {\n",
              "      display:flex;\n",
              "      flex-wrap:wrap;\n",
              "      gap: 12px;\n",
              "    }\n",
              "\n",
              "    .colab-df-convert {\n",
              "      background-color: #E8F0FE;\n",
              "      border: none;\n",
              "      border-radius: 50%;\n",
              "      cursor: pointer;\n",
              "      display: none;\n",
              "      fill: #1967D2;\n",
              "      height: 32px;\n",
              "      padding: 0 0 0 0;\n",
              "      width: 32px;\n",
              "    }\n",
              "\n",
              "    .colab-df-convert:hover {\n",
              "      background-color: #E2EBFA;\n",
              "      box-shadow: 0px 1px 2px rgba(60, 64, 67, 0.3), 0px 1px 3px 1px rgba(60, 64, 67, 0.15);\n",
              "      fill: #174EA6;\n",
              "    }\n",
              "\n",
              "    [theme=dark] .colab-df-convert {\n",
              "      background-color: #3B4455;\n",
              "      fill: #D2E3FC;\n",
              "    }\n",
              "\n",
              "    [theme=dark] .colab-df-convert:hover {\n",
              "      background-color: #434B5C;\n",
              "      box-shadow: 0px 1px 3px 1px rgba(0, 0, 0, 0.15);\n",
              "      filter: drop-shadow(0px 1px 2px rgba(0, 0, 0, 0.3));\n",
              "      fill: #FFFFFF;\n",
              "    }\n",
              "  </style>\n",
              "\n",
              "      <script>\n",
              "        const buttonEl =\n",
              "          document.querySelector('#df-b720663c-04b7-46d6-af45-1e286df780b0 button.colab-df-convert');\n",
              "        buttonEl.style.display =\n",
              "          google.colab.kernel.accessAllowed ? 'block' : 'none';\n",
              "\n",
              "        async function convertToInteractive(key) {\n",
              "          const element = document.querySelector('#df-b720663c-04b7-46d6-af45-1e286df780b0');\n",
              "          const dataTable =\n",
              "            await google.colab.kernel.invokeFunction('convertToInteractive',\n",
              "                                                     [key], {});\n",
              "          if (!dataTable) return;\n",
              "\n",
              "          const docLinkHtml = 'Like what you see? Visit the ' +\n",
              "            '<a target=\"_blank\" href=https://colab.research.google.com/notebooks/data_table.ipynb>data table notebook</a>'\n",
              "            + ' to learn more about interactive tables.';\n",
              "          element.innerHTML = '';\n",
              "          dataTable['output_type'] = 'display_data';\n",
              "          await google.colab.output.renderOutput(dataTable, element);\n",
              "          const docLink = document.createElement('div');\n",
              "          docLink.innerHTML = docLinkHtml;\n",
              "          element.appendChild(docLink);\n",
              "        }\n",
              "      </script>\n",
              "    </div>\n",
              "  </div>\n",
              "  "
            ]
          },
          "metadata": {},
          "execution_count": 5
        }
      ]
    },
    {
      "cell_type": "code",
      "source": [
        "# Replace the not needed test class entitites to other entities\n",
        "\n",
        "df_test[['class']] = df_test[['class']].replace(['Member-Collection(e1,e2)'],['Other'])\n",
        "df_test[['class']] = df_test[['class']].replace(['Member-Collection(e2,e1)'],['Other'])\n",
        "df_test[['class']] = df_test[['class']].replace(['Instrument-Agency(e1,e2)'],['Other'])\n",
        "df_test[['class']] = df_test[['class']].replace(['Instrument-Agency(e2,e1)'],['Other'])\n",
        "\n",
        "df_test[['class']] = df_test[['class']].replace(['Content-Container(e1,e2)'],['Other'])\n",
        "df_test[['class']] = df_test[['class']].replace(['Content-Container(e2,e1)'],['Other'])\n",
        "df_test[['class']] = df_test[['class']].replace(['Message-Topic(e1,e2)'],['Other'])\n",
        "df_test[['class']] = df_test[['class']].replace(['Message-Topic(e2,e1)'],['Other'])\n",
        "\n",
        "df_test[['class']] = df_test[['class']].replace(['Product-Producer(e1,e2)'],['Other'])\n",
        "df_test[['class']] = df_test[['class']].replace(['Product-Producer(e2,e1)'],['Other'])\n",
        "\n",
        "# print the dataset of test class\n",
        "\n",
        "#print(df_test[:5], file=open('ds_stats.txt', mode='a'))\n",
        "df_test[:5]\n",
        "#x.to_csv(\"test.csv\")"
      ],
      "metadata": {
        "colab": {
          "base_uri": "https://localhost:8080/",
          "height": 206
        },
        "id": "2YqIAT8nA1Mm",
        "outputId": "92867574-ef24-4127-e450-40ac0d97b12f"
      },
      "execution_count": null,
      "outputs": [
        {
          "output_type": "execute_result",
          "data": {
            "text/plain": [
              "     id                                           sentence  entity1_position  \\\n",
              "0  8001  The most common audits were about waste and re...                 3   \n",
              "1  8002            The company fabricates plastic chairs .                 1   \n",
              "2  8003  The school master teaches the lesson with a st...                 2   \n",
              "3  8004  The suspect dumped the dead body into a local ...                 5   \n",
              "4  8005  Avian influenza is an infectious disease of bi...                 1   \n",
              "\n",
              "     entity1  entity2_position    entity2                      class  tag  \n",
              "0     audits                 6      waste                      Other    0  \n",
              "1    company                 4     chairs                      Other    0  \n",
              "2     master                 8      stick                      Other    0  \n",
              "3       body                 9  reservoir  Entity-Destination(e1,e2)    2  \n",
              "4  influenza                16      virus        Cause-Effect(e2,e1)    3  "
            ],
            "text/html": [
              "\n",
              "  <div id=\"df-a883f40d-ac15-4f94-a5e7-3d6853ac7fde\">\n",
              "    <div class=\"colab-df-container\">\n",
              "      <div>\n",
              "<style scoped>\n",
              "    .dataframe tbody tr th:only-of-type {\n",
              "        vertical-align: middle;\n",
              "    }\n",
              "\n",
              "    .dataframe tbody tr th {\n",
              "        vertical-align: top;\n",
              "    }\n",
              "\n",
              "    .dataframe thead th {\n",
              "        text-align: right;\n",
              "    }\n",
              "</style>\n",
              "<table border=\"1\" class=\"dataframe\">\n",
              "  <thead>\n",
              "    <tr style=\"text-align: right;\">\n",
              "      <th></th>\n",
              "      <th>id</th>\n",
              "      <th>sentence</th>\n",
              "      <th>entity1_position</th>\n",
              "      <th>entity1</th>\n",
              "      <th>entity2_position</th>\n",
              "      <th>entity2</th>\n",
              "      <th>class</th>\n",
              "      <th>tag</th>\n",
              "    </tr>\n",
              "  </thead>\n",
              "  <tbody>\n",
              "    <tr>\n",
              "      <th>0</th>\n",
              "      <td>8001</td>\n",
              "      <td>The most common audits were about waste and re...</td>\n",
              "      <td>3</td>\n",
              "      <td>audits</td>\n",
              "      <td>6</td>\n",
              "      <td>waste</td>\n",
              "      <td>Other</td>\n",
              "      <td>0</td>\n",
              "    </tr>\n",
              "    <tr>\n",
              "      <th>1</th>\n",
              "      <td>8002</td>\n",
              "      <td>The company fabricates plastic chairs .</td>\n",
              "      <td>1</td>\n",
              "      <td>company</td>\n",
              "      <td>4</td>\n",
              "      <td>chairs</td>\n",
              "      <td>Other</td>\n",
              "      <td>0</td>\n",
              "    </tr>\n",
              "    <tr>\n",
              "      <th>2</th>\n",
              "      <td>8003</td>\n",
              "      <td>The school master teaches the lesson with a st...</td>\n",
              "      <td>2</td>\n",
              "      <td>master</td>\n",
              "      <td>8</td>\n",
              "      <td>stick</td>\n",
              "      <td>Other</td>\n",
              "      <td>0</td>\n",
              "    </tr>\n",
              "    <tr>\n",
              "      <th>3</th>\n",
              "      <td>8004</td>\n",
              "      <td>The suspect dumped the dead body into a local ...</td>\n",
              "      <td>5</td>\n",
              "      <td>body</td>\n",
              "      <td>9</td>\n",
              "      <td>reservoir</td>\n",
              "      <td>Entity-Destination(e1,e2)</td>\n",
              "      <td>2</td>\n",
              "    </tr>\n",
              "    <tr>\n",
              "      <th>4</th>\n",
              "      <td>8005</td>\n",
              "      <td>Avian influenza is an infectious disease of bi...</td>\n",
              "      <td>1</td>\n",
              "      <td>influenza</td>\n",
              "      <td>16</td>\n",
              "      <td>virus</td>\n",
              "      <td>Cause-Effect(e2,e1)</td>\n",
              "      <td>3</td>\n",
              "    </tr>\n",
              "  </tbody>\n",
              "</table>\n",
              "</div>\n",
              "      <button class=\"colab-df-convert\" onclick=\"convertToInteractive('df-a883f40d-ac15-4f94-a5e7-3d6853ac7fde')\"\n",
              "              title=\"Convert this dataframe to an interactive table.\"\n",
              "              style=\"display:none;\">\n",
              "        \n",
              "  <svg xmlns=\"http://www.w3.org/2000/svg\" height=\"24px\"viewBox=\"0 0 24 24\"\n",
              "       width=\"24px\">\n",
              "    <path d=\"M0 0h24v24H0V0z\" fill=\"none\"/>\n",
              "    <path d=\"M18.56 5.44l.94 2.06.94-2.06 2.06-.94-2.06-.94-.94-2.06-.94 2.06-2.06.94zm-11 1L8.5 8.5l.94-2.06 2.06-.94-2.06-.94L8.5 2.5l-.94 2.06-2.06.94zm10 10l.94 2.06.94-2.06 2.06-.94-2.06-.94-.94-2.06-.94 2.06-2.06.94z\"/><path d=\"M17.41 7.96l-1.37-1.37c-.4-.4-.92-.59-1.43-.59-.52 0-1.04.2-1.43.59L10.3 9.45l-7.72 7.72c-.78.78-.78 2.05 0 2.83L4 21.41c.39.39.9.59 1.41.59.51 0 1.02-.2 1.41-.59l7.78-7.78 2.81-2.81c.8-.78.8-2.07 0-2.86zM5.41 20L4 18.59l7.72-7.72 1.47 1.35L5.41 20z\"/>\n",
              "  </svg>\n",
              "      </button>\n",
              "      \n",
              "  <style>\n",
              "    .colab-df-container {\n",
              "      display:flex;\n",
              "      flex-wrap:wrap;\n",
              "      gap: 12px;\n",
              "    }\n",
              "\n",
              "    .colab-df-convert {\n",
              "      background-color: #E8F0FE;\n",
              "      border: none;\n",
              "      border-radius: 50%;\n",
              "      cursor: pointer;\n",
              "      display: none;\n",
              "      fill: #1967D2;\n",
              "      height: 32px;\n",
              "      padding: 0 0 0 0;\n",
              "      width: 32px;\n",
              "    }\n",
              "\n",
              "    .colab-df-convert:hover {\n",
              "      background-color: #E2EBFA;\n",
              "      box-shadow: 0px 1px 2px rgba(60, 64, 67, 0.3), 0px 1px 3px 1px rgba(60, 64, 67, 0.15);\n",
              "      fill: #174EA6;\n",
              "    }\n",
              "\n",
              "    [theme=dark] .colab-df-convert {\n",
              "      background-color: #3B4455;\n",
              "      fill: #D2E3FC;\n",
              "    }\n",
              "\n",
              "    [theme=dark] .colab-df-convert:hover {\n",
              "      background-color: #434B5C;\n",
              "      box-shadow: 0px 1px 3px 1px rgba(0, 0, 0, 0.15);\n",
              "      filter: drop-shadow(0px 1px 2px rgba(0, 0, 0, 0.3));\n",
              "      fill: #FFFFFF;\n",
              "    }\n",
              "  </style>\n",
              "\n",
              "      <script>\n",
              "        const buttonEl =\n",
              "          document.querySelector('#df-a883f40d-ac15-4f94-a5e7-3d6853ac7fde button.colab-df-convert');\n",
              "        buttonEl.style.display =\n",
              "          google.colab.kernel.accessAllowed ? 'block' : 'none';\n",
              "\n",
              "        async function convertToInteractive(key) {\n",
              "          const element = document.querySelector('#df-a883f40d-ac15-4f94-a5e7-3d6853ac7fde');\n",
              "          const dataTable =\n",
              "            await google.colab.kernel.invokeFunction('convertToInteractive',\n",
              "                                                     [key], {});\n",
              "          if (!dataTable) return;\n",
              "\n",
              "          const docLinkHtml = 'Like what you see? Visit the ' +\n",
              "            '<a target=\"_blank\" href=https://colab.research.google.com/notebooks/data_table.ipynb>data table notebook</a>'\n",
              "            + ' to learn more about interactive tables.';\n",
              "          element.innerHTML = '';\n",
              "          dataTable['output_type'] = 'display_data';\n",
              "          await google.colab.output.renderOutput(dataTable, element);\n",
              "          const docLink = document.createElement('div');\n",
              "          docLink.innerHTML = docLinkHtml;\n",
              "          element.appendChild(docLink);\n",
              "        }\n",
              "      </script>\n",
              "    </div>\n",
              "  </div>\n",
              "  "
            ]
          },
          "metadata": {},
          "execution_count": 6
        }
      ]
    },
    {
      "cell_type": "code",
      "source": [
        "# check the stats of the 'class' given training data set.\n",
        "df['tag'].value_counts().plot(kind='bar')\n",
        "#print(df['tag'].value_counts(), file=open('ds_stats.txt', mode='a'))"
      ],
      "metadata": {
        "colab": {
          "base_uri": "https://localhost:8080/",
          "height": 279
        },
        "id": "mKzwEzYNBkbV",
        "outputId": "2eab3887-9c76-4cfd-f8eb-92336b5d1799"
      },
      "execution_count": null,
      "outputs": [
        {
          "output_type": "execute_result",
          "data": {
            "text/plain": [
              "<matplotlib.axes._subplots.AxesSubplot at 0x7f23b4696510>"
            ]
          },
          "metadata": {},
          "execution_count": 7
        },
        {
          "output_type": "display_data",
          "data": {
            "text/plain": [
              "<Figure size 432x288 with 1 Axes>"
            ],
            "image/png": "[encoded data removed]"
          },
          "metadata": {
            "needs_background": "light"
          }
        }
      ]
    },
    {
      "cell_type": "code",
      "source": [
        "# stat check for 'class' label\n",
        "df['class'].value_counts().plot(kind='bar')\n",
        "#print(df['class'].value_counts(), file=open('ds_stats.txt', mode='a'))"
      ],
      "metadata": {
        "colab": {
          "base_uri": "https://localhost:8080/",
          "height": 400
        },
        "id": "Z3YSOGtoJmeV",
        "outputId": "d443e824-6bfa-41bd-9e96-c4629e6e65d8"
      },
      "execution_count": null,
      "outputs": [
        {
          "output_type": "execute_result",
          "data": {
            "text/plain": [
              "<matplotlib.axes._subplots.AxesSubplot at 0x7f23b4565910>"
            ]
          },
          "metadata": {},
          "execution_count": 8
        },
        {
          "output_type": "display_data",
          "data": {
            "text/plain": [
              "<Figure size 432x288 with 1 Axes>"
            ],
            "image/png": "[encoded data removed]"
          },
          "metadata": {
            "needs_background": "light"
          }
        }
      ]
    },
    {
      "cell_type": "code",
      "source": [
        "# stat check for the 'tag label' in test class\n",
        "df_test['tag'].value_counts().plot(kind='bar')\n",
        "#print(df_test['tag'].value_counts(), file=open('ds_stats.txt', mode='a'))"
      ],
      "metadata": {
        "colab": {
          "base_uri": "https://localhost:8080/",
          "height": 282
        },
        "id": "M-0MOZZdBweS",
        "outputId": "e97b4656-5f74-4ed9-efc1-d8cf3626c9d2"
      },
      "execution_count": null,
      "outputs": [
        {
          "output_type": "execute_result",
          "data": {
            "text/plain": [
              "<matplotlib.axes._subplots.AxesSubplot at 0x7f23b426d2d0>"
            ]
          },
          "metadata": {},
          "execution_count": 9
        },
        {
          "output_type": "display_data",
          "data": {
            "text/plain": [
              "<Figure size 432x288 with 1 Axes>"
            ],
            "image/png": "[encoded data removed]"
          },
          "metadata": {
            "needs_background": "light"
          }
        }
      ]
    },
    {
      "cell_type": "code",
      "source": [
        "# stats check for the class label in test dataset\n",
        "df_test['class'].value_counts().plot(kind='bar')\n",
        "#print(df_test['class'].value_counts(), file=open('ds_stats.txt', mode='a'))"
      ],
      "metadata": {
        "colab": {
          "base_uri": "https://localhost:8080/",
          "height": 404
        },
        "id": "M3U4LeGxB0DO",
        "outputId": "fefaf4e9-b49b-4b32-b798-d16858e5064c"
      },
      "execution_count": null,
      "outputs": [
        {
          "output_type": "execute_result",
          "data": {
            "text/plain": [
              "<matplotlib.axes._subplots.AxesSubplot at 0x7f23b4096cd0>"
            ]
          },
          "metadata": {},
          "execution_count": 10
        },
        {
          "output_type": "display_data",
          "data": {
            "text/plain": [
              "<Figure size 432x288 with 1 Axes>"
            ],
            "image/png": "[encoded data removed]"
          },
          "metadata": {
            "needs_background": "light"
          }
        }
      ]
    },
    {
      "cell_type": "code",
      "source": [
        "\n",
        "\n",
        "# preprocess the dataset\n",
        "#sub() function is used to replace occurrences of a particular sub-string with another sub-string.\n",
        "def preprocessor(sentence):\n",
        "    sentence = re.sub(r\"(@[A-Za-z0-9]+)|([^0-9A-Za-z \\t])|(\\w+:\\/\\/\\S+)|^rt|http.+?\", \"\", sentence)\n",
        "    sentence = sentence.lower()\n",
        "    sentence = re.sub(r'\\d+','', sentence)\n",
        "    sentence = sentence.replace(\"user\", \"\")\n",
        "    return  sentence"
      ],
      "metadata": {
        "id": "v6wbn7CSB22z"
      },
      "execution_count": null,
      "outputs": []
    },
    {
      "cell_type": "code",
      "source": [
        "# apply preprocessing to clean the dataset\n",
        "def clean_text(df):\n",
        "    #This function acts as a map() function in Python. It takes a function as an input and applies this function to an entire DataFrame.\n",
        "    train_cleaned = df['sentence'].apply(preprocessor)\n",
        "    df['sentence'] = train_cleaned.apply(lambda x: ' '.join([w for w in x.split() if len(w)>2]))\n",
        "    return df\n",
        "#print(df[:5],file=open('ds_stats.txt', mode='a'))\n",
        "df[:5]"
      ],
      "metadata": {
        "id": "YEstSj3cCgtT",
        "colab": {
          "base_uri": "https://localhost:8080/",
          "height": 206
        },
        "outputId": "e2dbe123-adb7-4d22-a250-d874c45dffbc"
      },
      "execution_count": null,
      "outputs": [
        {
          "output_type": "execute_result",
          "data": {
            "text/plain": [
              "  id                                           sentence  entity1_position  \\\n",
              "0  1  The system as described above has its greatest...                12   \n",
              "1  2  The child was carefully wrapped and bound into...                 1   \n",
              "2  3  The author of a keygen uses a disassembler to ...                 1   \n",
              "3  4             A misty ridge uprises from the surge .                 2   \n",
              "4  5  The student association is the voice of the un...                 1   \n",
              "\n",
              "         entity1  entity2_position       entity2                   class  tag  \n",
              "0  configuration                15      elements  Component-Whole(e2,e1)    4  \n",
              "1          child                 9        cradle                   Other    0  \n",
              "2         author                 7  disassembler                   Other    0  \n",
              "3          ridge                 6         surge                   Other    0  \n",
              "4        student                 2   association                   Other    0  "
            ],
            "text/html": [
              "\n",
              "  <div id=\"df-3800dc30-4bcf-4765-bcf5-f1c992aed63c\">\n",
              "    <div class=\"colab-df-container\">\n",
              "      <div>\n",
              "<style scoped>\n",
              "    .dataframe tbody tr th:only-of-type {\n",
              "        vertical-align: middle;\n",
              "    }\n",
              "\n",
              "    .dataframe tbody tr th {\n",
              "        vertical-align: top;\n",
              "    }\n",
              "\n",
              "    .dataframe thead th {\n",
              "        text-align: right;\n",
              "    }\n",
              "</style>\n",
              "<table border=\"1\" class=\"dataframe\">\n",
              "  <thead>\n",
              "    <tr style=\"text-align: right;\">\n",
              "      <th></th>\n",
              "      <th>id</th>\n",
              "      <th>sentence</th>\n",
              "      <th>entity1_position</th>\n",
              "      <th>entity1</th>\n",
              "      <th>entity2_position</th>\n",
              "      <th>entity2</th>\n",
              "      <th>class</th>\n",
              "      <th>tag</th>\n",
              "    </tr>\n",
              "  </thead>\n",
              "  <tbody>\n",
              "    <tr>\n",
              "      <th>0</th>\n",
              "      <td>1</td>\n",
              "      <td>The system as described above has its greatest...</td>\n",
              "      <td>12</td>\n",
              "      <td>configuration</td>\n",
              "      <td>15</td>\n",
              "      <td>elements</td>\n",
              "      <td>Component-Whole(e2,e1)</td>\n",
              "      <td>4</td>\n",
              "    </tr>\n",
              "    <tr>\n",
              "      <th>1</th>\n",
              "      <td>2</td>\n",
              "      <td>The child was carefully wrapped and bound into...</td>\n",
              "      <td>1</td>\n",
              "      <td>child</td>\n",
              "      <td>9</td>\n",
              "      <td>cradle</td>\n",
              "      <td>Other</td>\n",
              "      <td>0</td>\n",
              "    </tr>\n",
              "    <tr>\n",
              "      <th>2</th>\n",
              "      <td>3</td>\n",
              "      <td>The author of a keygen uses a disassembler to ...</td>\n",
              "      <td>1</td>\n",
              "      <td>author</td>\n",
              "      <td>7</td>\n",
              "      <td>disassembler</td>\n",
              "      <td>Other</td>\n",
              "      <td>0</td>\n",
              "    </tr>\n",
              "    <tr>\n",
              "      <th>3</th>\n",
              "      <td>4</td>\n",
              "      <td>A misty ridge uprises from the surge .</td>\n",
              "      <td>2</td>\n",
              "      <td>ridge</td>\n",
              "      <td>6</td>\n",
              "      <td>surge</td>\n",
              "      <td>Other</td>\n",
              "      <td>0</td>\n",
              "    </tr>\n",
              "    <tr>\n",
              "      <th>4</th>\n",
              "      <td>5</td>\n",
              "      <td>The student association is the voice of the un...</td>\n",
              "      <td>1</td>\n",
              "      <td>student</td>\n",
              "      <td>2</td>\n",
              "      <td>association</td>\n",
              "      <td>Other</td>\n",
              "      <td>0</td>\n",
              "    </tr>\n",
              "  </tbody>\n",
              "</table>\n",
              "</div>\n",
              "      <button class=\"colab-df-convert\" onclick=\"convertToInteractive('df-3800dc30-4bcf-4765-bcf5-f1c992aed63c')\"\n",
              "              title=\"Convert this dataframe to an interactive table.\"\n",
              "              style=\"display:none;\">\n",
              "        \n",
              "  <svg xmlns=\"http://www.w3.org/2000/svg\" height=\"24px\"viewBox=\"0 0 24 24\"\n",
              "       width=\"24px\">\n",
              "    <path d=\"M0 0h24v24H0V0z\" fill=\"none\"/>\n",
              "    <path d=\"M18.56 5.44l.94 2.06.94-2.06 2.06-.94-2.06-.94-.94-2.06-.94 2.06-2.06.94zm-11 1L8.5 8.5l.94-2.06 2.06-.94-2.06-.94L8.5 2.5l-.94 2.06-2.06.94zm10 10l.94 2.06.94-2.06 2.06-.94-2.06-.94-.94-2.06-.94 2.06-2.06.94z\"/><path d=\"M17.41 7.96l-1.37-1.37c-.4-.4-.92-.59-1.43-.59-.52 0-1.04.2-1.43.59L10.3 9.45l-7.72 7.72c-.78.78-.78 2.05 0 2.83L4 21.41c.39.39.9.59 1.41.59.51 0 1.02-.2 1.41-.59l7.78-7.78 2.81-2.81c.8-.78.8-2.07 0-2.86zM5.41 20L4 18.59l7.72-7.72 1.47 1.35L5.41 20z\"/>\n",
              "  </svg>\n",
              "      </button>\n",
              "      \n",
              "  <style>\n",
              "    .colab-df-container {\n",
              "      display:flex;\n",
              "      flex-wrap:wrap;\n",
              "      gap: 12px;\n",
              "    }\n",
              "\n",
              "    .colab-df-convert {\n",
              "      background-color: #E8F0FE;\n",
              "      border: none;\n",
              "      border-radius: 50%;\n",
              "      cursor: pointer;\n",
              "      display: none;\n",
              "      fill: #1967D2;\n",
              "      height: 32px;\n",
              "      padding: 0 0 0 0;\n",
              "      width: 32px;\n",
              "    }\n",
              "\n",
              "    .colab-df-convert:hover {\n",
              "      background-color: #E2EBFA;\n",
              "      box-shadow: 0px 1px 2px rgba(60, 64, 67, 0.3), 0px 1px 3px 1px rgba(60, 64, 67, 0.15);\n",
              "      fill: #174EA6;\n",
              "    }\n",
              "\n",
              "    [theme=dark] .colab-df-convert {\n",
              "      background-color: #3B4455;\n",
              "      fill: #D2E3FC;\n",
              "    }\n",
              "\n",
              "    [theme=dark] .colab-df-convert:hover {\n",
              "      background-color: #434B5C;\n",
              "      box-shadow: 0px 1px 3px 1px rgba(0, 0, 0, 0.15);\n",
              "      filter: drop-shadow(0px 1px 2px rgba(0, 0, 0, 0.3));\n",
              "      fill: #FFFFFF;\n",
              "    }\n",
              "  </style>\n",
              "\n",
              "      <script>\n",
              "        const buttonEl =\n",
              "          document.querySelector('#df-3800dc30-4bcf-4765-bcf5-f1c992aed63c button.colab-df-convert');\n",
              "        buttonEl.style.display =\n",
              "          google.colab.kernel.accessAllowed ? 'block' : 'none';\n",
              "\n",
              "        async function convertToInteractive(key) {\n",
              "          const element = document.querySelector('#df-3800dc30-4bcf-4765-bcf5-f1c992aed63c');\n",
              "          const dataTable =\n",
              "            await google.colab.kernel.invokeFunction('convertToInteractive',\n",
              "                                                     [key], {});\n",
              "          if (!dataTable) return;\n",
              "\n",
              "          const docLinkHtml = 'Like what you see? Visit the ' +\n",
              "            '<a target=\"_blank\" href=https://colab.research.google.com/notebooks/data_table.ipynb>data table notebook</a>'\n",
              "            + ' to learn more about interactive tables.';\n",
              "          element.innerHTML = '';\n",
              "          dataTable['output_type'] = 'display_data';\n",
              "          await google.colab.output.renderOutput(dataTable, element);\n",
              "          const docLink = document.createElement('div');\n",
              "          docLink.innerHTML = docLinkHtml;\n",
              "          element.appendChild(docLink);\n",
              "        }\n",
              "      </script>\n",
              "    </div>\n",
              "  </div>\n",
              "  "
            ]
          },
          "metadata": {},
          "execution_count": 12
        }
      ]
    },
    {
      "cell_type": "code",
      "source": [
        "# function to cleaning the text\n",
        "df['sentence'] = df['sentence'] + \" \" + df['entity1'] + \" \" + df['entity2']\n",
        "df_test['sentence'] = df_test['sentence'] + \" \" + df_test['entity1'] + \" \" + df_test['entity2']\n",
        "train_cleaned = clean_text(df)\n",
        "test_cleaned = clean_text(df_test)"
      ],
      "metadata": {
        "id": "4YTwjcTDCiR3"
      },
      "execution_count": null,
      "outputs": []
    },
    {
      "cell_type": "code",
      "source": [
        "data_str=df['sentence'].astype(str)\n",
        "test_data_str=df_test['sentence'].astype(str)\n",
        "\n",
        "# first get the vector features from count vectorixe then fit the vector form form data to learn the training data and this will return matrix values\n",
        "train_counts = CountVectorizer().fit_transform(data_str)\n",
        "# print the shape of traning dataset\n",
        "print(train_counts.shape)\n"
      ],
      "metadata": {
        "id": "deXer2otCwaE",
        "colab": {
          "base_uri": "https://localhost:8080/"
        },
        "outputId": "bbfd1eaa-74a6-4696-d446-b934da83f135"
      },
      "execution_count": null,
      "outputs": [
        {
          "output_type": "stream",
          "name": "stdout",
          "text": [
            "(8000, 19048)\n"
          ]
        }
      ]
    },
    {
      "cell_type": "code",
      "source": [
        "# load test and train file\n",
        "df=Load_corpus(Train_file)\n",
        "df_test = Load_corpus(Test_file)\n",
        "\n",
        "#clean the file\n",
        "train_cleaned = clean_text(df)\n",
        "test_cleaned = clean_text(df_test)\n",
        "\n",
        "# join the segments of the sentence\n",
        "df['sentence'] = df['sentence'] + \" \" + df['entity1'] + \" \" + df['entity2']\n",
        "df_test['sentence'] = df_test['sentence'] + \" \" + df_test['entity1'] + \" \" + df_test['entity2']"
      ],
      "metadata": {
        "id": "ILc9IdXvCyeX"
      },
      "execution_count": null,
      "outputs": []
    },
    {
      "cell_type": "code",
      "source": [
        "# fit the train data matrix into transformer: learn the global term weights or the idf vector.\n",
        "# term frequency - To mitigate the problem of weights comapiring to longer sentences-  #count(word) / #Total words\n",
        "# tf-idf - term frequency times inverse document frequency- to reduce the weightage of more common words\n",
        "tf_transformer = TfidfTransformer().fit(train_counts)\n",
        "\n",
        "# Transform: a count matrix to a tf or tf-idf representation.\n",
        "tf_train = tf_transformer.transform(train_counts)\n",
        "print (tf_train.shape)"
      ],
      "metadata": {
        "id": "S7PYjMdiC5-w",
        "colab": {
          "base_uri": "https://localhost:8080/"
        },
        "outputId": "e7be79ac-0811-4636-f74a-eff064a2fc7a"
      },
      "execution_count": null,
      "outputs": [
        {
          "output_type": "stream",
          "name": "stdout",
          "text": [
            "(8000, 19048)\n"
          ]
        }
      ]
    },
    {
      "cell_type": "code",
      "source": [
        "# fit the data then transform the data.\n",
        "tf_idf_train = TfidfTransformer().fit_transform(train_counts)\n",
        "print (tf_idf_train.shape)"
      ],
      "metadata": {
        "id": "76Vu8GQ3DAjD",
        "colab": {
          "base_uri": "https://localhost:8080/"
        },
        "outputId": "2e1f9c17-0056-4632-e571-1fa1cc0da184"
      },
      "execution_count": null,
      "outputs": [
        {
          "output_type": "stream",
          "name": "stdout",
          "text": [
            "(8000, 19048)\n"
          ]
        }
      ]
    },
    {
      "cell_type": "code",
      "source": [
        "# tag value of train and test data\n",
        "train_data_mat = df['tag'].values\n",
        "test_data_mat = df_test['tag'].values"
      ],
      "metadata": {
        "id": "l_xD9feGDC3Y"
      },
      "execution_count": null,
      "outputs": []
    },
    {
      "cell_type": "code",
      "source": [
        "# define pipeline\n",
        "text_classification = Pipeline([('vectorizer', CountVectorizer(ngram_range=(1,3))),\n",
        "                                ('tfidftransformer', TfidfTransformer(use_idf=False)),\n",
        "                                ('classification', SGDClassifier( loss='squared_hinge',penalty='l2',alpha=0.00038, random_state=50))])"
      ],
      "metadata": {
        "id": "5OR7HSYuDE5w"
      },
      "execution_count": null,
      "outputs": []
    },
    {
      "cell_type": "code",
      "source": [
        "# fit the model\n",
        "svm_prediction = text_classification.fit(data_str, train_data_mat).predict(test_data_str)"
      ],
      "metadata": {
        "id": "Fip9EF9ADIFM"
      },
      "execution_count": null,
      "outputs": []
    },
    {
      "cell_type": "code",
      "source": [
        "# get the Accuracy\n",
        "svm_accuracy = np.mean(svm_prediction == test_data_mat)\n",
        "print(\"Support Vector Machine Model Accuracy={} %\".format(svm_accuracy*100))"
      ],
      "metadata": {
        "id": "5_x0efCpDKF2",
        "colab": {
          "base_uri": "https://localhost:8080/"
        },
        "outputId": "55194693-01ab-46a0-b8e8-89ff94d42ac1"
      },
      "execution_count": null,
      "outputs": [
        {
          "output_type": "stream",
          "name": "stdout",
          "text": [
            "Support Vector Machine Model Accuracy=77.21751932278248 %\n"
          ]
        }
      ]
    },
    {
      "cell_type": "code",
      "source": [
        "# Create confusion matrix\n",
        "mat = confusion_matrix(svm_prediction, test_data_mat)"
      ],
      "metadata": {
        "id": "CAozHJJgDQ9j"
      },
      "execution_count": null,
      "outputs": []
    },
    {
      "cell_type": "code",
      "source": [
        "Accuracy_Score = accuracy_score(svm_prediction, test_data_mat)\n",
        "Precision_Score = precision_score(svm_prediction, test_data_mat,  average=\"macro\")\n",
        "Recall_Score = recall_score(svm_prediction, test_data_mat,  average=\"macro\")\n",
        "F1_Score = f1_score(svm_prediction, test_data_mat,  average=\"macro\")"
      ],
      "metadata": {
        "id": "SdUa4NxgpReu"
      },
      "execution_count": null,
      "outputs": []
    },
    {
      "cell_type": "code",
      "source": [
        "print('Accuracy: ', Accuracy_Score)\n",
        "print('Precesion: ', Precision_Score)\n",
        "print('Recall: ', Recall_Score)\n",
        "print('F1: ', F1_Score)"
      ],
      "metadata": {
        "id": "U57Rz39RtOgc",
        "colab": {
          "base_uri": "https://localhost:8080/"
        },
        "outputId": "bf1aa25f-a7f6-4566-9b55-89201a6c8a96"
      },
      "execution_count": null,
      "outputs": [
        {
          "output_type": "stream",
          "name": "stdout",
          "text": [
            "Accuracy:  0.7721751932278248\n",
            "Precesion:  0.6907540998169993\n",
            "Recall:  0.7623395734364771\n",
            "F1:  0.7108317821894714\n"
          ]
        }
      ]
    },
    {
      "cell_type": "code",
      "source": [
        "print('confusion matrix: \\n', mat)"
      ],
      "metadata": {
        "id": "SGnrUTg-4HVm",
        "colab": {
          "base_uri": "https://localhost:8080/"
        },
        "outputId": "da239b85-cb72-4ad4-84c1-aae429c6e775"
      },
      "execution_count": null,
      "outputs": [
        {
          "output_type": "stream",
          "name": "stdout",
          "text": [
            "confusion matrix: \n",
            " [[1329   78   69   46  172]\n",
            " [  71  166    0   18    6]\n",
            " [  86    7  220    0   11]\n",
            " [  18    3    1  262    2]\n",
            " [  23    4    2    2  121]]\n"
          ]
        }
      ]
    },
    {
      "cell_type": "code",
      "source": [
        "# get the classification report.\n",
        "print(classification_report(svm_prediction, test_data_mat, digits=3))"
      ],
      "metadata": {
        "id": "wbEC95E4Dhm7",
        "colab": {
          "base_uri": "https://localhost:8080/"
        },
        "outputId": "78ddb728-398a-4491-a630-09ee869ad890"
      },
      "execution_count": null,
      "outputs": [
        {
          "output_type": "stream",
          "name": "stdout",
          "text": [
            "              precision    recall  f1-score   support\n",
            "\n",
            "           0      0.870     0.785     0.825      1694\n",
            "           1      0.643     0.636     0.640       261\n",
            "           2      0.753     0.679     0.714       324\n",
            "           3      0.799     0.916     0.853       286\n",
            "           4      0.388     0.796     0.522       152\n",
            "\n",
            "    accuracy                          0.772      2717\n",
            "   macro avg      0.691     0.762     0.711      2717\n",
            "weighted avg      0.800     0.772     0.780      2717\n",
            "\n"
          ]
        }
      ]
    },
    {
      "cell_type": "code",
      "source": [
        "# confusion matrix visualization.\n",
        "import seaborn as sns\n",
        "cf = confusion_matrix(svm_prediction, test_data_mat)\n",
        "sns.heatmap(cf, annot=True)"
      ],
      "metadata": {
        "colab": {
          "base_uri": "https://localhost:8080/",
          "height": 282
        },
        "id": "N3267lVdj0ET",
        "outputId": "bca1fb73-b73e-4614-af28-86d65de30e69"
      },
      "execution_count": null,
      "outputs": [
        {
          "output_type": "execute_result",
          "data": {
            "text/plain": [
              "<matplotlib.axes._subplots.AxesSubplot at 0x7f23b1b65c90>"
            ]
          },
          "metadata": {},
          "execution_count": 27
        },
        {
          "output_type": "display_data",
          "data": {
            "text/plain": [
              "<Figure size 432x288 with 2 Axes>"
            ],
            "image/png": "[encoded data removed]"
          },
          "metadata": {
            "needs_background": "light"
          }
        }
      ]
    },
    {
      "cell_type": "code",
      "source": [
        "# check for the 50 test sentences-\n",
        "\n",
        "label_map = {0: \"Other\", 1: \"Entity-Origin\", 2: 'Entity-Destination', 3: 'Cause-Effect', 4: 'Component-Whole'}\n",
        "\n",
        "test_sentences = list(df_test['sentence'])\n",
        "tags = list(df_test['tag'])\n",
        "test_s = []\n",
        "test_tag = []\n",
        "for tag,sentence in zip(tags[:50],test_sentences[:50]):\n",
        "  t = [sentence]\n",
        "  test_tag.append(tag)\n",
        "  test_s.append(t)\n",
        "\n",
        "# print(test_tag, test_s)\n",
        "# test_sent = np.array(test_sent)\n",
        "preds = []\n",
        "pred_sentence = []\n",
        "for i in range(len(test_s)):\n",
        "  test_pred = text_classification.predict(test_s[i])\n",
        "  test_pred_class = label_map[test_pred[0]]\n",
        "  preds.append(test_pred[0])\n",
        "  pred_sentence.append(test_pred_class)\n",
        "\n",
        "#print(len(preds))\n",
        "for p in preds:\n",
        "  print(p)\n"
      ],
      "metadata": {
        "id": "C49VIZ92zutc",
        "colab": {
          "base_uri": "https://localhost:8080/"
        },
        "outputId": "97da652e-5885-4d7c-9fcd-8566f3109665"
      },
      "execution_count": null,
      "outputs": [
        {
          "output_type": "stream",
          "name": "stdout",
          "text": [
            "0\n",
            "0\n",
            "0\n",
            "2\n",
            "3\n",
            "4\n",
            "0\n",
            "0\n",
            "0\n",
            "0\n",
            "2\n",
            "0\n",
            "2\n",
            "0\n",
            "1\n",
            "0\n",
            "0\n",
            "0\n",
            "0\n",
            "0\n",
            "0\n",
            "0\n",
            "0\n",
            "0\n",
            "1\n",
            "0\n",
            "0\n",
            "0\n",
            "0\n",
            "1\n",
            "3\n",
            "0\n",
            "0\n",
            "3\n",
            "0\n",
            "4\n",
            "0\n",
            "0\n",
            "0\n",
            "3\n",
            "0\n",
            "0\n",
            "0\n",
            "2\n",
            "1\n",
            "0\n",
            "0\n",
            "2\n",
            "0\n",
            "0\n"
          ]
        }
      ]
    },
    {
      "cell_type": "code",
      "source": [
        "# confusion matrix visualization on 50 test sentences\n",
        "import seaborn as sns\n",
        "cf = confusion_matrix(test_tag, preds)\n",
        "sns.heatmap(cf, annot=True)"
      ],
      "metadata": {
        "colab": {
          "base_uri": "https://localhost:8080/",
          "height": 282
        },
        "id": "bVFsdMn4Q_DV",
        "outputId": "4f1a53bf-6293-414f-e90d-e68c028b71f9"
      },
      "execution_count": null,
      "outputs": [
        {
          "output_type": "execute_result",
          "data": {
            "text/plain": [
              "<matplotlib.axes._subplots.AxesSubplot at 0x7f23b196fb10>"
            ]
          },
          "metadata": {},
          "execution_count": 29
        },
        {
          "output_type": "display_data",
          "data": {
            "text/plain": [
              "<Figure size 432x288 with 2 Axes>"
            ],
            "image/png": "[encoded data removed]"
          },
          "metadata": {
            "needs_background": "light"
          }
        }
      ]
    },
    {
      "cell_type": "code",
      "source": [
        "# get the Classification Matrix.\n",
        "print(classification_report(test_tag, preds))"
      ],
      "metadata": {
        "colab": {
          "base_uri": "https://localhost:8080/"
        },
        "id": "ZjZy8_46eQqw",
        "outputId": "49a16b1a-1cf6-4392-badf-2ae1dcf4736e"
      },
      "execution_count": null,
      "outputs": [
        {
          "output_type": "stream",
          "name": "stdout",
          "text": [
            "              precision    recall  f1-score   support\n",
            "\n",
            "           0       0.74      0.93      0.83        28\n",
            "           1       1.00      0.80      0.89         5\n",
            "           2       1.00      0.83      0.91         6\n",
            "           3       0.50      0.40      0.44         5\n",
            "           4       1.00      0.33      0.50         6\n",
            "\n",
            "    accuracy                           0.78        50\n",
            "   macro avg       0.85      0.66      0.71        50\n",
            "weighted avg       0.81      0.78      0.76        50\n",
            "\n"
          ]
        }
      ]
    },
    {
      "cell_type": "code",
      "source": [
        "# Confusion Matrix for the test sentences.\n",
        "cf"
      ],
      "metadata": {
        "colab": {
          "base_uri": "https://localhost:8080/"
        },
        "id": "KJC607CM2BTZ",
        "outputId": "00901603-786a-4161-e59e-11f755656a06"
      },
      "execution_count": null,
      "outputs": [
        {
          "output_type": "execute_result",
          "data": {
            "text/plain": [
              "array([[26,  0,  0,  2,  0],\n",
              "       [ 1,  4,  0,  0,  0],\n",
              "       [ 1,  0,  5,  0,  0],\n",
              "       [ 3,  0,  0,  2,  0],\n",
              "       [ 4,  0,  0,  0,  2]])"
            ]
          },
          "metadata": {},
          "execution_count": 31
        }
      ]
    },
    {
      "cell_type": "code",
      "source": [
        "# to test the sentences-\n",
        "\n",
        "label_map = {0: \"Other\", 1: \"Entity-Origin\", 2: 'Entity-Destination', 3: 'Cause-Effect', 4: 'Component-Whole'}\n",
        "\n",
        "test_sent = [\"We have delivered <e1>containers</e1> to <e2>retail stores</e2> for excess of inventory.\"]\n",
        "\n",
        "for i in range(len(test_sent)):\n",
        "\n",
        "    test_pred = text_classification.predict(test_sent)\n",
        "    test_pred_class = label_map[test_pred[0]]\n",
        "    print(test_pred_class)"
      ],
      "metadata": {
        "colab": {
          "base_uri": "https://localhost:8080/"
        },
        "id": "08KFsX9sPhM_",
        "outputId": "e0594714-c39a-47d4-b17d-aab7c5f07f1f"
      },
      "execution_count": null,
      "outputs": [
        {
          "output_type": "stream",
          "name": "stdout",
          "text": [
            "Entity-Destination\n"
          ]
        }
      ]
    },
    {
      "cell_type": "code",
      "source": [
        "# to test the sentences-\n",
        "\n",
        "label_map = {0: \"Other\", 1: \"Entity-Origin\", 2: 'Entity-Destination', 3: 'Cause-Effect', 4: 'Component-Whole'}\n",
        "\n",
        "test_sent = [\"The <e1>inflammation</e1> causes <e2>pain</e2> in the joint.\"]\n",
        "\n",
        "for i in range(len(test_sent)):\n",
        "\n",
        "    test_pred = text_classification.predict(test_sent)\n",
        "    test_pred_class = label_map[test_pred[0]]\n",
        "    print(test_pred_class)"
      ],
      "metadata": {
        "id": "uUjvHYfD5pTP",
        "colab": {
          "base_uri": "https://localhost:8080/"
        },
        "outputId": "52a84209-70b6-4fdc-b4b5-4dbcb127c614"
      },
      "execution_count": null,
      "outputs": [
        {
          "output_type": "stream",
          "name": "stdout",
          "text": [
            "Cause-Effect\n"
          ]
        }
      ]
    },
    {
      "cell_type": "code",
      "source": [],
      "metadata": {
        "id": "k6gDNXLJ0poj"
      },
      "execution_count": null,
      "outputs": []
    }
  ]
}